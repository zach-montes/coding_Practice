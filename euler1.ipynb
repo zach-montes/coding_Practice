{
 "cells": [
  {
   "cell_type": "markdown",
   "id": "4d006633",
   "metadata": {},
   "source": [
    "### If we list all the natural numbers below 10 that are multiples of 3 or 5, we get 3, 5, 6 and 9. The sum of these multiples is 23.\n",
    "\n",
    "#### Find the sum of all the multiples of 3 or 5 below 1000."
   ]
  },
  {
   "cell_type": "code",
   "execution_count": 1,
   "id": "192388c1",
   "metadata": {},
   "outputs": [
    {
     "name": "stdout",
     "output_type": "stream",
     "text": [
      "23\n"
     ]
    }
   ],
   "source": [
    "def multiples(n=int):\n",
    "\n",
    "    \"\"\" A function to solve the first Euler problem, summing multiples of 3 or 5 \"\"\"\n",
    "\n",
    "    summation = 0\n",
    "    for i in range(1,n):\n",
    "        if i%3 == 0:\n",
    "            summation += i\n",
    "        elif i%5 == 0 and i%3 != 0:\n",
    "            summation += i\n",
    "    return summation\n",
    "\n",
    "print(multiples(10))"
   ]
  },
  {
   "cell_type": "code",
   "execution_count": 2,
   "id": "82f571f3",
   "metadata": {},
   "outputs": [
    {
     "name": "stdout",
     "output_type": "stream",
     "text": [
      "233168\n"
     ]
    }
   ],
   "source": [
    "# It's correct!\n",
    "print(multiples(1000))"
   ]
  },
  {
   "cell_type": "code",
   "execution_count": null,
   "id": "d727ed2b",
   "metadata": {},
   "outputs": [],
   "source": []
  }
 ],
 "metadata": {
  "interpreter": {
   "hash": "aee8b7b246df8f9039afb4144a1f6fd8d2ca17a180786b69acc140d282b71a49"
  },
  "kernelspec": {
   "display_name": "Python 3.9.1 64-bit",
   "language": "python",
   "name": "python3"
  },
  "language_info": {
   "codemirror_mode": {
    "name": "ipython",
    "version": 3
   },
   "file_extension": ".py",
   "mimetype": "text/x-python",
   "name": "python",
   "nbconvert_exporter": "python",
   "pygments_lexer": "ipython3",
   "version": "3.9.1"
  }
 },
 "nbformat": 4,
 "nbformat_minor": 5
}
